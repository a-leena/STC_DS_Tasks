{
 "cells": [
  {
   "cell_type": "code",
   "execution_count": 1,
   "metadata": {},
   "outputs": [],
   "source": [
    "import numpy as np\n",
    "import pandas as pd\n",
    "import matplotlib.pyplot as plt\n",
    "import seaborn as sns\n",
    "%matplotlib inline"
   ]
  },
  {
   "cell_type": "code",
   "execution_count": 2,
   "metadata": {},
   "outputs": [],
   "source": [
    "rain=pd.read_csv('weatherAUS.csv')"
   ]
  },
  {
   "cell_type": "code",
   "execution_count": 3,
   "metadata": {
    "scrolled": true
   },
   "outputs": [
    {
     "data": {
      "text/html": [
       "<div>\n",
       "<style scoped>\n",
       "    .dataframe tbody tr th:only-of-type {\n",
       "        vertical-align: middle;\n",
       "    }\n",
       "\n",
       "    .dataframe tbody tr th {\n",
       "        vertical-align: top;\n",
       "    }\n",
       "\n",
       "    .dataframe thead th {\n",
       "        text-align: right;\n",
       "    }\n",
       "</style>\n",
       "<table border=\"1\" class=\"dataframe\">\n",
       "  <thead>\n",
       "    <tr style=\"text-align: right;\">\n",
       "      <th></th>\n",
       "      <th>Date</th>\n",
       "      <th>Location</th>\n",
       "      <th>MinTemp</th>\n",
       "      <th>MaxTemp</th>\n",
       "      <th>Rainfall</th>\n",
       "      <th>Evaporation</th>\n",
       "      <th>Sunshine</th>\n",
       "      <th>WindGustDir</th>\n",
       "      <th>WindGustSpeed</th>\n",
       "      <th>WindDir9am</th>\n",
       "      <th>...</th>\n",
       "      <th>Humidity9am</th>\n",
       "      <th>Humidity3pm</th>\n",
       "      <th>Pressure9am</th>\n",
       "      <th>Pressure3pm</th>\n",
       "      <th>Cloud9am</th>\n",
       "      <th>Cloud3pm</th>\n",
       "      <th>Temp9am</th>\n",
       "      <th>Temp3pm</th>\n",
       "      <th>RainToday</th>\n",
       "      <th>RainTomorrow</th>\n",
       "    </tr>\n",
       "  </thead>\n",
       "  <tbody>\n",
       "    <tr>\n",
       "      <th>0</th>\n",
       "      <td>2008-12-01</td>\n",
       "      <td>Albury</td>\n",
       "      <td>13.4</td>\n",
       "      <td>22.9</td>\n",
       "      <td>0.6</td>\n",
       "      <td>NaN</td>\n",
       "      <td>NaN</td>\n",
       "      <td>W</td>\n",
       "      <td>44.0</td>\n",
       "      <td>W</td>\n",
       "      <td>...</td>\n",
       "      <td>71.0</td>\n",
       "      <td>22.0</td>\n",
       "      <td>1007.7</td>\n",
       "      <td>1007.1</td>\n",
       "      <td>8.0</td>\n",
       "      <td>NaN</td>\n",
       "      <td>16.9</td>\n",
       "      <td>21.8</td>\n",
       "      <td>No</td>\n",
       "      <td>No</td>\n",
       "    </tr>\n",
       "    <tr>\n",
       "      <th>1</th>\n",
       "      <td>2008-12-02</td>\n",
       "      <td>Albury</td>\n",
       "      <td>7.4</td>\n",
       "      <td>25.1</td>\n",
       "      <td>0.0</td>\n",
       "      <td>NaN</td>\n",
       "      <td>NaN</td>\n",
       "      <td>WNW</td>\n",
       "      <td>44.0</td>\n",
       "      <td>NNW</td>\n",
       "      <td>...</td>\n",
       "      <td>44.0</td>\n",
       "      <td>25.0</td>\n",
       "      <td>1010.6</td>\n",
       "      <td>1007.8</td>\n",
       "      <td>NaN</td>\n",
       "      <td>NaN</td>\n",
       "      <td>17.2</td>\n",
       "      <td>24.3</td>\n",
       "      <td>No</td>\n",
       "      <td>No</td>\n",
       "    </tr>\n",
       "    <tr>\n",
       "      <th>2</th>\n",
       "      <td>2008-12-03</td>\n",
       "      <td>Albury</td>\n",
       "      <td>12.9</td>\n",
       "      <td>25.7</td>\n",
       "      <td>0.0</td>\n",
       "      <td>NaN</td>\n",
       "      <td>NaN</td>\n",
       "      <td>WSW</td>\n",
       "      <td>46.0</td>\n",
       "      <td>W</td>\n",
       "      <td>...</td>\n",
       "      <td>38.0</td>\n",
       "      <td>30.0</td>\n",
       "      <td>1007.6</td>\n",
       "      <td>1008.7</td>\n",
       "      <td>NaN</td>\n",
       "      <td>2.0</td>\n",
       "      <td>21.0</td>\n",
       "      <td>23.2</td>\n",
       "      <td>No</td>\n",
       "      <td>No</td>\n",
       "    </tr>\n",
       "    <tr>\n",
       "      <th>3</th>\n",
       "      <td>2008-12-04</td>\n",
       "      <td>Albury</td>\n",
       "      <td>9.2</td>\n",
       "      <td>28.0</td>\n",
       "      <td>0.0</td>\n",
       "      <td>NaN</td>\n",
       "      <td>NaN</td>\n",
       "      <td>NE</td>\n",
       "      <td>24.0</td>\n",
       "      <td>SE</td>\n",
       "      <td>...</td>\n",
       "      <td>45.0</td>\n",
       "      <td>16.0</td>\n",
       "      <td>1017.6</td>\n",
       "      <td>1012.8</td>\n",
       "      <td>NaN</td>\n",
       "      <td>NaN</td>\n",
       "      <td>18.1</td>\n",
       "      <td>26.5</td>\n",
       "      <td>No</td>\n",
       "      <td>No</td>\n",
       "    </tr>\n",
       "    <tr>\n",
       "      <th>4</th>\n",
       "      <td>2008-12-05</td>\n",
       "      <td>Albury</td>\n",
       "      <td>17.5</td>\n",
       "      <td>32.3</td>\n",
       "      <td>1.0</td>\n",
       "      <td>NaN</td>\n",
       "      <td>NaN</td>\n",
       "      <td>W</td>\n",
       "      <td>41.0</td>\n",
       "      <td>ENE</td>\n",
       "      <td>...</td>\n",
       "      <td>82.0</td>\n",
       "      <td>33.0</td>\n",
       "      <td>1010.8</td>\n",
       "      <td>1006.0</td>\n",
       "      <td>7.0</td>\n",
       "      <td>8.0</td>\n",
       "      <td>17.8</td>\n",
       "      <td>29.7</td>\n",
       "      <td>No</td>\n",
       "      <td>No</td>\n",
       "    </tr>\n",
       "  </tbody>\n",
       "</table>\n",
       "<p>5 rows × 23 columns</p>\n",
       "</div>"
      ],
      "text/plain": [
       "         Date Location  MinTemp  MaxTemp  Rainfall  Evaporation  Sunshine  \\\n",
       "0  2008-12-01   Albury     13.4     22.9       0.6          NaN       NaN   \n",
       "1  2008-12-02   Albury      7.4     25.1       0.0          NaN       NaN   \n",
       "2  2008-12-03   Albury     12.9     25.7       0.0          NaN       NaN   \n",
       "3  2008-12-04   Albury      9.2     28.0       0.0          NaN       NaN   \n",
       "4  2008-12-05   Albury     17.5     32.3       1.0          NaN       NaN   \n",
       "\n",
       "  WindGustDir  WindGustSpeed WindDir9am  ... Humidity9am  Humidity3pm  \\\n",
       "0           W           44.0          W  ...        71.0         22.0   \n",
       "1         WNW           44.0        NNW  ...        44.0         25.0   \n",
       "2         WSW           46.0          W  ...        38.0         30.0   \n",
       "3          NE           24.0         SE  ...        45.0         16.0   \n",
       "4           W           41.0        ENE  ...        82.0         33.0   \n",
       "\n",
       "   Pressure9am  Pressure3pm  Cloud9am  Cloud3pm  Temp9am  Temp3pm  RainToday  \\\n",
       "0       1007.7       1007.1       8.0       NaN     16.9     21.8         No   \n",
       "1       1010.6       1007.8       NaN       NaN     17.2     24.3         No   \n",
       "2       1007.6       1008.7       NaN       2.0     21.0     23.2         No   \n",
       "3       1017.6       1012.8       NaN       NaN     18.1     26.5         No   \n",
       "4       1010.8       1006.0       7.0       8.0     17.8     29.7         No   \n",
       "\n",
       "   RainTomorrow  \n",
       "0            No  \n",
       "1            No  \n",
       "2            No  \n",
       "3            No  \n",
       "4            No  \n",
       "\n",
       "[5 rows x 23 columns]"
      ]
     },
     "execution_count": 3,
     "metadata": {},
     "output_type": "execute_result"
    }
   ],
   "source": [
    "rain.head()"
   ]
  },
  {
   "cell_type": "code",
   "execution_count": 4,
   "metadata": {},
   "outputs": [],
   "source": [
    "rain['Date']= pd.to_datetime(rain['Date'])\n",
    "\n",
    "rain['Year']=rain['Date'].dt.year\n",
    "rain['Month']=rain['Date'].dt.month\n",
    "rain['Day']=rain['Date'].dt.day\n",
    "rain['Day of the week']=rain['Date'].dt.dayofweek\n",
    "\n",
    "rain.drop('Date',axis=1,inplace=True)"
   ]
  },
  {
   "cell_type": "code",
   "execution_count": 5,
   "metadata": {},
   "outputs": [],
   "source": [
    "rain.dropna(inplace=True, subset=['MinTemp', 'MaxTemp', 'Rainfall', 'WindDir3pm', 'WindSpeed9am', 'WindSpeed3pm', 'Humidity9am', 'Humidity3pm', 'Temp9am', 'Temp3pm', 'RainToday', 'RainTomorrow'])\n"
   ]
  },
  {
   "cell_type": "code",
   "execution_count": 6,
   "metadata": {},
   "outputs": [],
   "source": [
    "#For the null values in  WindGustDir & WindDir9am, fill with value in WindDir3pm\n",
    "rain['WindGustDir'].fillna(value=rain['WindDir3pm'],inplace=True)\n",
    "rain['WindDir9am'].fillna(value=rain['WindDir3pm'],inplace=True)"
   ]
  },
  {
   "cell_type": "code",
   "execution_count": 7,
   "metadata": {
    "scrolled": true
   },
   "outputs": [
    {
     "data": {
      "text/plain": [
       "<AxesSubplot:>"
      ]
     },
     "execution_count": 7,
     "metadata": {},
     "output_type": "execute_result"
    },
    {
     "data": {
      "image/png": "[encoded data removed]",
      "text/plain": [
       "<Figure size 720x360 with 1 Axes>"
      ]
     },
     "metadata": {
      "needs_background": "light"
     },
     "output_type": "display_data"
    }
   ],
   "source": [
    "plt.figure(figsize=(10,5))\n",
    "sns.heatmap(data=rain.isnull(),cbar=False,yticklabels=False, cmap='viridis')"
   ]
  },
  {
   "cell_type": "code",
   "execution_count": 8,
   "metadata": {},
   "outputs": [],
   "source": [
    "dir= {\"N\": 0, \"NNE\": 22.5, \"NE\": 45, \"ENE\": 67.5, \"E\": 90, \"ESE\": 112.5, \"SE\": 135, \"SSE\": 157.5, \"S\": 180, \"SSW\": 202.5, \"SW\": 225, \"WSW\": 247.5, \"W\": 270, \"WNW\": 292.5, \"NW\": 315, \"NNW\": 337.5}\n",
    "# create columns for directions in degrees-\n",
    "def rep(val):\n",
    "    return dir[val]\n",
    "\n",
    "rain['WindDir3pm']=rain['WindDir3pm'].apply(rep)\n",
    "rain['WindDir9am']=rain['WindDir9am'].apply(rep)\n",
    "rain['WindGustDir']=rain['WindGustDir'].apply(rep)"
   ]
  },
  {
   "cell_type": "code",
   "execution_count": 9,
   "metadata": {},
   "outputs": [
    {
     "data": {
      "text/plain": [
       "array(['Albury', 'BadgerysCreek', 'Cobar', 'CoffsHarbour', 'Moree',\n",
       "       'Newcastle', 'NorahHead', 'NorfolkIsland', 'Penrith', 'Richmond',\n",
       "       'Sydney', 'SydneyAirport', 'WaggaWagga', 'Williamtown',\n",
       "       'Wollongong', 'Canberra', 'Tuggeranong', 'MountGinini', 'Ballarat',\n",
       "       'Bendigo', 'Sale', 'MelbourneAirport', 'Melbourne', 'Mildura',\n",
       "       'Nhil', 'Portland', 'Watsonia', 'Dartmoor', 'Brisbane', 'Cairns',\n",
       "       'GoldCoast', 'Townsville', 'Adelaide', 'MountGambier', 'Nuriootpa',\n",
       "       'Woomera', 'Albany', 'Witchcliffe', 'PearceRAAF', 'PerthAirport',\n",
       "       'Perth', 'SalmonGums', 'Walpole', 'Hobart', 'Launceston',\n",
       "       'AliceSprings', 'Darwin', 'Katherine', 'Uluru'], dtype=object)"
      ]
     },
     "execution_count": 9,
     "metadata": {},
     "output_type": "execute_result"
    }
   ],
   "source": [
    "rain['Location'].unique()"
   ]
  },
  {
   "cell_type": "code",
   "execution_count": 10,
   "metadata": {},
   "outputs": [],
   "source": [
    "bin_loc={}\n",
    "for i in rain['Location'].unique():\n",
    "    bin_loc[i]=rain['Rainfall'][rain['Location']==i].mean()"
   ]
  },
  {
   "cell_type": "code",
   "execution_count": 11,
   "metadata": {},
   "outputs": [
    {
     "data": {
      "text/plain": [
       "{'Albury': 1.9019034670292252,\n",
       " 'BadgerysCreek': 2.202212705210555,\n",
       " 'Cobar': 1.1397337070777842,\n",
       " 'CoffsHarbour': 5.175432006010533,\n",
       " 'Moree': 1.6041040674239624,\n",
       " 'Newcastle': 2.7788250484183323,\n",
       " 'NorahHead': 3.4124036440084113,\n",
       " 'NorfolkIsland': 3.1404298874104346,\n",
       " 'Penrith': 2.1142959256611733,\n",
       " 'Richmond': 2.1207764198418295,\n",
       " 'Sydney': 3.35263480392156,\n",
       " 'SydneyAirport': 3.004413239719161,\n",
       " 'WaggaWagga': 1.7161904761904716,\n",
       " 'Williamtown': 3.504946695095939,\n",
       " 'Wollongong': 3.6165521978022013,\n",
       " 'Canberra': 1.7458118556700954,\n",
       " 'Tuggeranong': 2.143328748280602,\n",
       " 'MountGinini': 2.8171861836562657,\n",
       " 'Ballarat': 1.6686827956989132,\n",
       " 'Bendigo': 1.6174555219872342,\n",
       " 'Sale': 1.5017621145374371,\n",
       " 'MelbourneAirport': 1.453936348408707,\n",
       " 'Melbourne': 1.8422114962702922,\n",
       " 'Mildura': 0.9492811768639254,\n",
       " 'Nhil': 0.9329073482428145,\n",
       " 'Portland': 2.4992795883361816,\n",
       " 'Watsonia': 1.8136827773995854,\n",
       " 'Dartmoor': 2.157330415754911,\n",
       " 'Brisbane': 3.113990306946688,\n",
       " 'Cairns': 5.7739776951673,\n",
       " 'GoldCoast': 3.6329616724738747,\n",
       " 'Townsville': 3.4762818392325503,\n",
       " 'Adelaide': 1.5725333333333316,\n",
       " 'MountGambier': 2.0758113081297944,\n",
       " 'Nuriootpa': 1.374215552523872,\n",
       " 'Woomera': 0.49751108080463785,\n",
       " 'Albany': 2.3142728500675305,\n",
       " 'Witchcliffe': 2.8114285714285607,\n",
       " 'PearceRAAF': 1.6168015414258166,\n",
       " 'PerthAirport': 1.749035262807717,\n",
       " 'Perth': 1.9013862633900398,\n",
       " 'SalmonGums': 1.0388101003113086,\n",
       " 'Walpole': 2.859889094269859,\n",
       " 'Hobart': 1.6066751430387727,\n",
       " 'Launceston': 2.0103448275862026,\n",
       " 'AliceSprings': 0.8610484406104844,\n",
       " 'Darwin': 5.068697017268452,\n",
       " 'Katherine': 2.785344827586207,\n",
       " 'Uluru': 0.711517615176152}"
      ]
     },
     "execution_count": 11,
     "metadata": {},
     "output_type": "execute_result"
    }
   ],
   "source": [
    "bin_loc"
   ]
  },
  {
   "cell_type": "code",
   "execution_count": 12,
   "metadata": {},
   "outputs": [],
   "source": [
    "def rep_loc(loc):\n",
    "    if bin_loc[loc]>=rain['Rainfall'].mean():\n",
    "        return 1\n",
    "    else:\n",
    "        return 0\n",
    "    \n",
    "rain['bin_location']=rain['Location'].apply(rep_loc)"
   ]
  },
  {
   "cell_type": "code",
   "execution_count": 13,
   "metadata": {},
   "outputs": [],
   "source": [
    "rain.drop('Location',axis=1,inplace=True)"
   ]
  },
  {
   "cell_type": "code",
   "execution_count": 14,
   "metadata": {},
   "outputs": [],
   "source": [
    "#Obtain a relation between the wind speeds at 9am and 3pm, and the wind gust speed-\n",
    "speed=rain[['WindGustSpeed','WindSpeed9am', 'WindSpeed3pm']].dropna()\n",
    "X=speed.drop('WindGustSpeed',axis=1)\n",
    "y=speed['WindGustSpeed']\n",
    "\n",
    "from sklearn.model_selection import train_test_split\n",
    "X_train, X_test, y_train, y_test = train_test_split(X, y, test_size=0.30, random_state=101)"
   ]
  },
  {
   "cell_type": "code",
   "execution_count": 15,
   "metadata": {},
   "outputs": [],
   "source": [
    "from sklearn.linear_model import LinearRegression"
   ]
  },
  {
   "cell_type": "code",
   "execution_count": 16,
   "metadata": {},
   "outputs": [],
   "source": [
    "lm=LinearRegression()"
   ]
  },
  {
   "cell_type": "code",
   "execution_count": 17,
   "metadata": {},
   "outputs": [
    {
     "data": {
      "text/plain": [
       "LinearRegression()"
      ]
     },
     "execution_count": 17,
     "metadata": {},
     "output_type": "execute_result"
    }
   ],
   "source": [
    "lm.fit(X_train,y_train)"
   ]
  },
  {
   "cell_type": "code",
   "execution_count": 18,
   "metadata": {},
   "outputs": [],
   "source": [
    "preds=lm.predict(rain[['WindSpeed9am','WindSpeed3pm']])"
   ]
  },
  {
   "cell_type": "code",
   "execution_count": 19,
   "metadata": {},
   "outputs": [
    {
     "data": {
      "text/plain": [
       "0         44.0\n",
       "1         44.0\n",
       "2         46.0\n",
       "3         24.0\n",
       "4         41.0\n",
       "          ... \n",
       "145454    31.0\n",
       "145455    31.0\n",
       "145456    22.0\n",
       "145457    37.0\n",
       "145458    28.0\n",
       "Name: WindGustSpeed, Length: 134590, dtype: float64"
      ]
     },
     "execution_count": 19,
     "metadata": {},
     "output_type": "execute_result"
    }
   ],
   "source": [
    "rain['WindGustSpeed'].fillna(value=pd.Series(preds),inplace=True)\n",
    "rain['WindGustSpeed']"
   ]
  },
  {
   "cell_type": "code",
   "execution_count": 20,
   "metadata": {
    "scrolled": true
   },
   "outputs": [
    {
     "data": {
      "text/plain": [
       "<AxesSubplot:>"
      ]
     },
     "execution_count": 20,
     "metadata": {},
     "output_type": "execute_result"
    },
    {
     "data": {
      "image/png": "[encoded data removed]",
      "text/plain": [
       "<Figure size 720x360 with 1 Axes>"
      ]
     },
     "metadata": {
      "needs_background": "light"
     },
     "output_type": "display_data"
    }
   ],
   "source": [
    "plt.figure(figsize=(10,5))\n",
    "sns.heatmap(data=rain.isnull(),cbar=False,yticklabels=False, cmap='viridis')"
   ]
  },
  {
   "cell_type": "code",
   "execution_count": 21,
   "metadata": {},
   "outputs": [],
   "source": [
    "def bin_val(val):\n",
    "    if val=='Yes':\n",
    "        return 1\n",
    "    else:\n",
    "        return 0\n",
    "rain['RainToday']=rain['RainToday'].apply(bin_val)\n",
    "rain['RainTomorrow']=rain['RainTomorrow'].apply(bin_val)"
   ]
  },
  {
   "cell_type": "code",
   "execution_count": 22,
   "metadata": {},
   "outputs": [],
   "source": [
    "rain['Pressure9am'].fillna(value=rain['Pressure9am'].mean(),inplace=True)\n",
    "rain['Pressure3pm'].fillna(value=rain['Pressure3pm'].mean(),inplace=True)"
   ]
  },
  {
   "cell_type": "code",
   "execution_count": 23,
   "metadata": {},
   "outputs": [],
   "source": [
    "rain['Evaporation'].fillna(value=rain['Evaporation'].mean(),inplace=True)\n",
    "rain['Sunshine'].fillna(value=rain['Sunshine'].mean(),inplace=True)\n",
    "rain['Cloud9am'].fillna(value=rain['Cloud9am'].mean(),inplace=True)\n",
    "rain['Cloud3pm'].fillna(value=rain['Cloud3pm'].mean(),inplace=True)"
   ]
  },
  {
   "cell_type": "code",
   "execution_count": 24,
   "metadata": {},
   "outputs": [
    {
     "data": {
      "text/plain": [
       "<AxesSubplot:>"
      ]
     },
     "execution_count": 24,
     "metadata": {},
     "output_type": "execute_result"
    },
    {
     "data": {
      "image/png": "[encoded data removed]",
      "text/plain": [
       "<Figure size 720x360 with 1 Axes>"
      ]
     },
     "metadata": {
      "needs_background": "light"
     },
     "output_type": "display_data"
    }
   ],
   "source": [
    "plt.figure(figsize=(10,5))\n",
    "sns.heatmap(data=rain.isnull(),cbar=False,yticklabels=False, cmap='viridis')"
   ]
  },
  {
   "cell_type": "code",
   "execution_count": 25,
   "metadata": {},
   "outputs": [],
   "source": [
    "rain.dropna(inplace=True)"
   ]
  },
  {
   "cell_type": "markdown",
   "metadata": {},
   "source": [
    "# Standardizing the data to the same scale"
   ]
  },
  {
   "cell_type": "code",
   "execution_count": 26,
   "metadata": {},
   "outputs": [],
   "source": [
    "from sklearn.preprocessing import StandardScaler"
   ]
  },
  {
   "cell_type": "code",
   "execution_count": 27,
   "metadata": {},
   "outputs": [],
   "source": [
    "scaler=StandardScaler()"
   ]
  },
  {
   "cell_type": "code",
   "execution_count": 28,
   "metadata": {},
   "outputs": [
    {
     "data": {
      "text/plain": [
       "StandardScaler()"
      ]
     },
     "execution_count": 28,
     "metadata": {},
     "output_type": "execute_result"
    }
   ],
   "source": [
    "scaler.fit(rain.drop('RainTomorrow', axis=1))"
   ]
  },
  {
   "cell_type": "code",
   "execution_count": 29,
   "metadata": {},
   "outputs": [],
   "source": [
    "scaled_features=scaler.transform(rain.drop('RainTomorrow',axis=1))"
   ]
  },
  {
   "cell_type": "code",
   "execution_count": 30,
   "metadata": {},
   "outputs": [],
   "source": [
    "rain_feat=pd.DataFrame(data=scaled_features,columns=rain.columns[:-1])"
   ]
  },
  {
   "cell_type": "code",
   "execution_count": 31,
   "metadata": {},
   "outputs": [
    {
     "data": {
      "text/html": [
       "<div>\n",
       "<style scoped>\n",
       "    .dataframe tbody tr th:only-of-type {\n",
       "        vertical-align: middle;\n",
       "    }\n",
       "\n",
       "    .dataframe tbody tr th {\n",
       "        vertical-align: top;\n",
       "    }\n",
       "\n",
       "    .dataframe thead th {\n",
       "        text-align: right;\n",
       "    }\n",
       "</style>\n",
       "<table border=\"1\" class=\"dataframe\">\n",
       "  <thead>\n",
       "    <tr style=\"text-align: right;\">\n",
       "      <th></th>\n",
       "      <th>MinTemp</th>\n",
       "      <th>MaxTemp</th>\n",
       "      <th>Rainfall</th>\n",
       "      <th>Evaporation</th>\n",
       "      <th>Sunshine</th>\n",
       "      <th>WindGustDir</th>\n",
       "      <th>WindGustSpeed</th>\n",
       "      <th>WindDir9am</th>\n",
       "      <th>WindDir3pm</th>\n",
       "      <th>WindSpeed9am</th>\n",
       "      <th>...</th>\n",
       "      <th>Cloud9am</th>\n",
       "      <th>Cloud3pm</th>\n",
       "      <th>Temp9am</th>\n",
       "      <th>Temp3pm</th>\n",
       "      <th>RainToday</th>\n",
       "      <th>RainTomorrow</th>\n",
       "      <th>Year</th>\n",
       "      <th>Month</th>\n",
       "      <th>Day</th>\n",
       "      <th>Day of the week</th>\n",
       "    </tr>\n",
       "  </thead>\n",
       "  <tbody>\n",
       "    <tr>\n",
       "      <th>0</th>\n",
       "      <td>0.190588</td>\n",
       "      <td>-0.050450</td>\n",
       "      <td>-0.204660</td>\n",
       "      <td>0.000412</td>\n",
       "      <td>0.000035</td>\n",
       "      <td>0.993564</td>\n",
       "      <td>0.283673</td>\n",
       "      <td>1.013181</td>\n",
       "      <td>1.192551</td>\n",
       "      <td>0.665749</td>\n",
       "      <td>...</td>\n",
       "      <td>1.561893</td>\n",
       "      <td>0.000037</td>\n",
       "      <td>-0.011458</td>\n",
       "      <td>0.007973</td>\n",
       "      <td>-0.534057</td>\n",
       "      <td>-1.867019</td>\n",
       "      <td>1.629076</td>\n",
       "      <td>-1.673419</td>\n",
       "      <td>-1.489698</td>\n",
       "      <td>-0.744311</td>\n",
       "    </tr>\n",
       "    <tr>\n",
       "      <th>1</th>\n",
       "      <td>-0.751124</td>\n",
       "      <td>0.261141</td>\n",
       "      <td>-0.276298</td>\n",
       "      <td>0.000412</td>\n",
       "      <td>0.000035</td>\n",
       "      <td>1.217567</td>\n",
       "      <td>0.283673</td>\n",
       "      <td>1.655955</td>\n",
       "      <td>0.747096</td>\n",
       "      <td>-1.145683</td>\n",
       "      <td>...</td>\n",
       "      <td>-0.000069</td>\n",
       "      <td>0.000037</td>\n",
       "      <td>0.034929</td>\n",
       "      <td>0.369187</td>\n",
       "      <td>-0.534057</td>\n",
       "      <td>-1.867019</td>\n",
       "      <td>1.629076</td>\n",
       "      <td>-1.559746</td>\n",
       "      <td>-0.989893</td>\n",
       "      <td>-0.744311</td>\n",
       "    </tr>\n",
       "    <tr>\n",
       "      <th>2</th>\n",
       "      <td>0.112112</td>\n",
       "      <td>0.346121</td>\n",
       "      <td>-0.276298</td>\n",
       "      <td>0.000412</td>\n",
       "      <td>0.000035</td>\n",
       "      <td>0.769561</td>\n",
       "      <td>0.432633</td>\n",
       "      <td>1.013181</td>\n",
       "      <td>0.747096</td>\n",
       "      <td>0.552535</td>\n",
       "      <td>...</td>\n",
       "      <td>-0.000069</td>\n",
       "      <td>-1.168641</td>\n",
       "      <td>0.622496</td>\n",
       "      <td>0.210253</td>\n",
       "      <td>-0.534057</td>\n",
       "      <td>-1.867019</td>\n",
       "      <td>1.629076</td>\n",
       "      <td>-1.446072</td>\n",
       "      <td>-0.490087</td>\n",
       "      <td>-0.744311</td>\n",
       "    </tr>\n",
       "    <tr>\n",
       "      <th>3</th>\n",
       "      <td>-0.468611</td>\n",
       "      <td>0.671875</td>\n",
       "      <td>-0.276298</td>\n",
       "      <td>0.000412</td>\n",
       "      <td>0.000035</td>\n",
       "      <td>-1.246467</td>\n",
       "      <td>-1.205929</td>\n",
       "      <td>-0.272368</td>\n",
       "      <td>-0.811996</td>\n",
       "      <td>-0.353182</td>\n",
       "      <td>...</td>\n",
       "      <td>-0.000069</td>\n",
       "      <td>0.000037</td>\n",
       "      <td>0.174089</td>\n",
       "      <td>0.687056</td>\n",
       "      <td>-0.534057</td>\n",
       "      <td>-1.867019</td>\n",
       "      <td>1.629076</td>\n",
       "      <td>-1.332399</td>\n",
       "      <td>0.009719</td>\n",
       "      <td>-0.744311</td>\n",
       "    </tr>\n",
       "    <tr>\n",
       "      <th>4</th>\n",
       "      <td>0.834092</td>\n",
       "      <td>1.280893</td>\n",
       "      <td>-0.156902</td>\n",
       "      <td>0.000412</td>\n",
       "      <td>0.000035</td>\n",
       "      <td>0.993564</td>\n",
       "      <td>0.060233</td>\n",
       "      <td>-0.915143</td>\n",
       "      <td>1.415278</td>\n",
       "      <td>-0.806040</td>\n",
       "      <td>...</td>\n",
       "      <td>1.123420</td>\n",
       "      <td>1.643284</td>\n",
       "      <td>0.127702</td>\n",
       "      <td>1.149411</td>\n",
       "      <td>-0.534057</td>\n",
       "      <td>-1.867019</td>\n",
       "      <td>1.629076</td>\n",
       "      <td>-1.218725</td>\n",
       "      <td>0.509525</td>\n",
       "      <td>-0.744311</td>\n",
       "    </tr>\n",
       "  </tbody>\n",
       "</table>\n",
       "<p>5 rows × 25 columns</p>\n",
       "</div>"
      ],
      "text/plain": [
       "    MinTemp   MaxTemp  Rainfall  Evaporation  Sunshine  WindGustDir  \\\n",
       "0  0.190588 -0.050450 -0.204660     0.000412  0.000035     0.993564   \n",
       "1 -0.751124  0.261141 -0.276298     0.000412  0.000035     1.217567   \n",
       "2  0.112112  0.346121 -0.276298     0.000412  0.000035     0.769561   \n",
       "3 -0.468611  0.671875 -0.276298     0.000412  0.000035    -1.246467   \n",
       "4  0.834092  1.280893 -0.156902     0.000412  0.000035     0.993564   \n",
       "\n",
       "   WindGustSpeed  WindDir9am  WindDir3pm  WindSpeed9am  ...  Cloud9am  \\\n",
       "0       0.283673    1.013181    1.192551      0.665749  ...  1.561893   \n",
       "1       0.283673    1.655955    0.747096     -1.145683  ... -0.000069   \n",
       "2       0.432633    1.013181    0.747096      0.552535  ... -0.000069   \n",
       "3      -1.205929   -0.272368   -0.811996     -0.353182  ... -0.000069   \n",
       "4       0.060233   -0.915143    1.415278     -0.806040  ...  1.123420   \n",
       "\n",
       "   Cloud3pm   Temp9am   Temp3pm  RainToday  RainTomorrow      Year     Month  \\\n",
       "0  0.000037 -0.011458  0.007973  -0.534057     -1.867019  1.629076 -1.673419   \n",
       "1  0.000037  0.034929  0.369187  -0.534057     -1.867019  1.629076 -1.559746   \n",
       "2 -1.168641  0.622496  0.210253  -0.534057     -1.867019  1.629076 -1.446072   \n",
       "3  0.000037  0.174089  0.687056  -0.534057     -1.867019  1.629076 -1.332399   \n",
       "4  1.643284  0.127702  1.149411  -0.534057     -1.867019  1.629076 -1.218725   \n",
       "\n",
       "        Day  Day of the week  \n",
       "0 -1.489698        -0.744311  \n",
       "1 -0.989893        -0.744311  \n",
       "2 -0.490087        -0.744311  \n",
       "3  0.009719        -0.744311  \n",
       "4  0.509525        -0.744311  \n",
       "\n",
       "[5 rows x 25 columns]"
      ]
     },
     "execution_count": 31,
     "metadata": {},
     "output_type": "execute_result"
    }
   ],
   "source": [
    "rain_feat.head()"
   ]
  },
  {
   "cell_type": "markdown",
   "metadata": {},
   "source": [
    "# KNN model "
   ]
  },
  {
   "cell_type": "code",
   "execution_count": 32,
   "metadata": {},
   "outputs": [],
   "source": [
    "X=rain_feat\n",
    "y=rain['RainTomorrow']"
   ]
  },
  {
   "cell_type": "code",
   "execution_count": 33,
   "metadata": {},
   "outputs": [],
   "source": [
    "from sklearn.model_selection import train_test_split"
   ]
  },
  {
   "cell_type": "code",
   "execution_count": 34,
   "metadata": {},
   "outputs": [],
   "source": [
    "X_train, X_test, y_train, y_test = train_test_split(X, y, test_size=0.30, random_state=101)"
   ]
  },
  {
   "cell_type": "code",
   "execution_count": 35,
   "metadata": {},
   "outputs": [],
   "source": [
    "from sklearn.neighbors import KNeighborsClassifier"
   ]
  },
  {
   "cell_type": "markdown",
   "metadata": {},
   "source": [
    "**K=1**"
   ]
  },
  {
   "cell_type": "code",
   "execution_count": 36,
   "metadata": {},
   "outputs": [],
   "source": [
    "knn=KNeighborsClassifier(n_neighbors=1)"
   ]
  },
  {
   "cell_type": "code",
   "execution_count": 37,
   "metadata": {},
   "outputs": [
    {
     "data": {
      "text/plain": [
       "KNeighborsClassifier(n_neighbors=1)"
      ]
     },
     "execution_count": 37,
     "metadata": {},
     "output_type": "execute_result"
    }
   ],
   "source": [
    "knn.fit(X_train,y_train)"
   ]
  },
  {
   "cell_type": "code",
   "execution_count": 38,
   "metadata": {},
   "outputs": [],
   "source": [
    "pred1=knn.predict(X_test)"
   ]
  },
  {
   "cell_type": "code",
   "execution_count": 39,
   "metadata": {},
   "outputs": [],
   "source": [
    "from sklearn.metrics import classification_report,confusion_matrix"
   ]
  },
  {
   "cell_type": "code",
   "execution_count": 40,
   "metadata": {},
   "outputs": [
    {
     "name": "stdout",
     "output_type": "stream",
     "text": [
      "Confusion matrix-\n",
      " [[27952  3478]\n",
      " [ 4160  4754]]\n"
     ]
    }
   ],
   "source": [
    "print('Confusion matrix-\\n', confusion_matrix(y_test,pred1))"
   ]
  },
  {
   "cell_type": "code",
   "execution_count": 41,
   "metadata": {},
   "outputs": [
    {
     "name": "stdout",
     "output_type": "stream",
     "text": [
      "Classification report-\n",
      "               precision    recall  f1-score   support\n",
      "\n",
      "           0       0.87      0.89      0.88     31430\n",
      "           1       0.58      0.53      0.55      8914\n",
      "\n",
      "    accuracy                           0.81     40344\n",
      "   macro avg       0.72      0.71      0.72     40344\n",
      "weighted avg       0.81      0.81      0.81     40344\n",
      "\n"
     ]
    }
   ],
   "source": [
    "print(\"Classification report-\\n\", classification_report(y_test,pred1))"
   ]
  },
  {
   "cell_type": "markdown",
   "metadata": {},
   "source": [
    "# Choosing a better K value"
   ]
  },
  {
   "cell_type": "code",
   "execution_count": 46,
   "metadata": {
    "scrolled": true
   },
   "outputs": [
    {
     "data": {
      "text/plain": [
       "KNeighborsClassifier(n_neighbors=8)"
      ]
     },
     "execution_count": 46,
     "metadata": {},
     "output_type": "execute_result"
    }
   ],
   "source": [
    "# K=8\n",
    "\n",
    "knn=KNeighborsClassifier(n_neighbors=8)\n",
    "\n",
    "knn.fit(X_train,y_train)\n"
   ]
  },
  {
   "cell_type": "code",
   "execution_count": 50,
   "metadata": {},
   "outputs": [
    {
     "name": "stdout",
     "output_type": "stream",
     "text": [
      "Confusion matrix-\n",
      " [[30101  1329]\n",
      " [ 4936  3978]]\n",
      "Classification report-\n",
      "               precision    recall  f1-score   support\n",
      "\n",
      "           0       0.86      0.96      0.91     31430\n",
      "           1       0.75      0.45      0.56      8914\n",
      "\n",
      "    accuracy                           0.84     40344\n",
      "   macro avg       0.80      0.70      0.73     40344\n",
      "weighted avg       0.83      0.84      0.83     40344\n",
      "\n"
     ]
    }
   ],
   "source": [
    "pred8= knn.predict(X_test)\n",
    "\n",
    "from sklearn.metrics import classification_report,confusion_matrix\n",
    "\n",
    "print('Confusion matrix-\\n', confusion_matrix(y_test,pred8))\n",
    "print(\"Classification report-\\n\", classification_report(y_test,pred8))"
   ]
  },
  {
   "cell_type": "markdown",
   "metadata": {},
   "source": [
    "**Accuracy and F1 scores are relatively higher.**"
   ]
  },
  {
   "cell_type": "code",
   "execution_count": 48,
   "metadata": {},
   "outputs": [
    {
     "data": {
      "text/plain": [
       "KNeighborsClassifier(n_neighbors=15)"
      ]
     },
     "execution_count": 48,
     "metadata": {},
     "output_type": "execute_result"
    }
   ],
   "source": [
    "# K=15\n",
    "\n",
    "knn=KNeighborsClassifier(n_neighbors=15)\n",
    "\n",
    "knn.fit(X_train,y_train)\n"
   ]
  },
  {
   "cell_type": "code",
   "execution_count": 49,
   "metadata": {},
   "outputs": [
    {
     "name": "stdout",
     "output_type": "stream",
     "text": [
      "Confusion matrix-\n",
      " [[30101  1329]\n",
      " [ 4936  3978]]\n",
      "Classification report-\n",
      "               precision    recall  f1-score   support\n",
      "\n",
      "           0       0.86      0.96      0.91     31430\n",
      "           1       0.75      0.45      0.56      8914\n",
      "\n",
      "    accuracy                           0.84     40344\n",
      "   macro avg       0.80      0.70      0.73     40344\n",
      "weighted avg       0.83      0.84      0.83     40344\n",
      "\n"
     ]
    }
   ],
   "source": [
    "pred_15= knn.predict(X_test)\n",
    "\n",
    "from sklearn.metrics import classification_report,confusion_matrix\n",
    "\n",
    "print('Confusion matrix-\\n', confusion_matrix(y_test,pred_15))\n",
    "print(\"Classification report-\\n\", classification_report(y_test,pred_15))"
   ]
  },
  {
   "cell_type": "markdown",
   "metadata": {},
   "source": [
    "**Accuracy has increased a bit more.**"
   ]
  },
  {
   "cell_type": "code",
   "execution_count": 51,
   "metadata": {},
   "outputs": [
    {
     "data": {
      "text/plain": [
       "KNeighborsClassifier(n_neighbors=15)"
      ]
     },
     "execution_count": 51,
     "metadata": {},
     "output_type": "execute_result"
    }
   ],
   "source": [
    "# K=30\n",
    "\n",
    "knn=KNeighborsClassifier(n_neighbors=15)\n",
    "\n",
    "knn.fit(X_train,y_train)\n"
   ]
  },
  {
   "cell_type": "code",
   "execution_count": 52,
   "metadata": {},
   "outputs": [
    {
     "name": "stdout",
     "output_type": "stream",
     "text": [
      "Confusion matrix-\n",
      " [[30101  1329]\n",
      " [ 4936  3978]]\n",
      "Classification report-\n",
      "               precision    recall  f1-score   support\n",
      "\n",
      "           0       0.86      0.96      0.91     31430\n",
      "           1       0.75      0.45      0.56      8914\n",
      "\n",
      "    accuracy                           0.84     40344\n",
      "   macro avg       0.80      0.70      0.73     40344\n",
      "weighted avg       0.83      0.84      0.83     40344\n",
      "\n"
     ]
    }
   ],
   "source": [
    "pred_30= knn.predict(X_test)\n",
    "\n",
    "from sklearn.metrics import classification_report,confusion_matrix\n",
    "\n",
    "print('Confusion matrix-\\n', confusion_matrix(y_test,pred_30))\n",
    "print(\"Classification report-\\n\", classification_report(y_test,pred_30))"
   ]
  },
  {
   "cell_type": "markdown",
   "metadata": {},
   "source": [
    "**No significant improvement in the performance of the KNN model. So optimum K value could be between 10 to 15.** "
   ]
  },
  {
   "cell_type": "code",
   "execution_count": null,
   "metadata": {},
   "outputs": [],
   "source": []
  }
 ],
 "metadata": {
  "kernelspec": {
   "display_name": "Python 3",
   "language": "python",
   "name": "python3"
  },
  "language_info": {
   "codemirror_mode": {
    "name": "ipython",
    "version": 3
   },
   "file_extension": ".py",
   "mimetype": "text/x-python",
   "name": "python",
   "nbconvert_exporter": "python",
   "pygments_lexer": "ipython3",
   "version": "3.8.5"
  }
 },
 "nbformat": 4,
 "nbformat_minor": 4
}
